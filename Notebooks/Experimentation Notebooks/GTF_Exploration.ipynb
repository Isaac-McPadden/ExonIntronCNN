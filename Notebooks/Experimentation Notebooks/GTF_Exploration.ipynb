{
 "cells": [
  {
   "cell_type": "markdown",
   "metadata": {},
   "source": [
    "This notebook was used to explore the GTF file.  It was also used to attempt to calculate the intron boundaries but using the search_gtf_by_range function, \n",
    "determined there was some garbage in, garbage out going on with the hg38 comprehensive annotation due to the inclusion of every possible variant.  A significant fraction of introns were missing/wrong.\n",
    "It's only included because the search function is nice."
   ]
  },
  {
   "cell_type": "code",
   "execution_count": null,
   "metadata": {},
   "outputs": [],
   "source": [
    "import time\n",
    "import sys\n",
    "import os\n",
    "import glob\n",
    "import math\n",
    "import threading\n",
    "import concurrent.futures as cf\n",
    "\n",
    "import numpy as np\n",
    "import pandas as pd\n",
    "import tensorflow as tf\n",
    "from keras import Input, Model, layers, metrics, losses, callbacks, optimizers, models, utils\n",
    "from keras import backend as K\n",
    "import gc\n",
    "import keras_tuner as kt\n",
    "from pyfaidx import Fasta\n",
    "\n",
    "K.clear_session()\n",
    "gc.collect()\n",
    "\n",
    "datasets_path = \"../../Datasets/\"\n",
    "models_path = \"../../Models/\""
   ]
  },
  {
   "cell_type": "code",
   "execution_count": 2,
   "metadata": {},
   "outputs": [],
   "source": [
    "def load_gtf_annotations(gtf_file):\n",
    "    \"\"\"\n",
    "    Loads GTF into a pandas DataFrame and converts cstart and cend to zero-based indexing.\n",
    "    \"\"\"\n",
    "    gtf_data = pd.read_csv(\n",
    "        gtf_file, sep='\\t', comment='#', header=None,\n",
    "        names=['seqname', 'source', 'feature', 'cstart', 'cend', \n",
    "               'score', 'strand', 'frame', 'attribute']\n",
    "    )\n",
    "    # Convert to zero-based indexing for cstart\n",
    "    gtf_data['cstart'] = gtf_data['cstart'] - 1\n",
    "    return gtf_data"
   ]
  },
  {
   "cell_type": "code",
   "execution_count": 3,
   "metadata": {},
   "outputs": [],
   "source": [
    "def search_gtf_by_range(gtf_df, seqname, pos_min, pos_max, require_both=False):\n",
    "    \"\"\"\n",
    "    Search a GTF annotations DataFrame for rows matching a given sequence name and \n",
    "    having cstart and/or cend values within a specified range.\n",
    "\n",
    "    Parameters:\n",
    "      gtf_df (pd.DataFrame): DataFrame containing GTF annotations. Must include at least \n",
    "                             the columns 'seqname', 'cstart', and 'cend'.\n",
    "      seqname (str): The chromosome or scaffold name to filter by (e.g., 'chr1' or '1').\n",
    "      pos_min (int): The lower bound of the position range (inclusive).\n",
    "      pos_max (int): The upper bound of the position range (inclusive).\n",
    "      require_both (bool): \n",
    "           - If False (default), returns rows where either 'cstart' OR 'cend' falls within the range.\n",
    "           - If True, returns only rows where BOTH 'cstart' and 'cend' fall within the range.\n",
    "    \n",
    "    Returns:\n",
    "      pd.DataFrame: A DataFrame containing only the rows that match the criteria.\n",
    "    \"\"\"\n",
    "    # Filter by seqname first.\n",
    "    df = gtf_df[gtf_df['seqname'] == seqname]\n",
    "    \n",
    "    if require_both:\n",
    "        condition = (\n",
    "            (df['cstart'] >= pos_min) & (df['cstart'] <= pos_max) &\n",
    "            (df['cend']   >= pos_min) & (df['cend']   <= pos_max)\n",
    "        )\n",
    "    else:\n",
    "        condition = (\n",
    "            ((df['cstart'] >= pos_min) & (df['cstart'] <= pos_max)) |\n",
    "            ((df['cend']   >= pos_min) & (df['cend']   <= pos_max))\n",
    "        )\n",
    "        \n",
    "    return df[condition]"
   ]
  },
  {
   "cell_type": "code",
   "execution_count": 3,
   "metadata": {},
   "outputs": [],
   "source": [
    "gtf = load_gtf_annotations(\"chr_annotations.gtf\")"
   ]
  },
  {
   "cell_type": "code",
   "execution_count": 4,
   "metadata": {},
   "outputs": [],
   "source": [
    "search_df = search_gtf_by_range(gtf, \"chr1\", 42762000, 42763000, require_both=False)"
   ]
  },
  {
   "cell_type": "code",
   "execution_count": 7,
   "metadata": {},
   "outputs": [
    {
     "name": "stdout",
     "output_type": "stream",
     "text": [
      "      seqname   source feature    cstart      cend score strand frame  \\\n",
      "86822    chr1  ENSEMBL    exon  42762322  42762475     .      -     .   \n",
      "86855    chr1   HAVANA    exon  42762322  42762475     .      -     .   \n",
      "86872    chr1   HAVANA    exon  42762322  42762475     .      -     .   \n",
      "86907    chr1   HAVANA    exon  42762322  42762475     .      -     .   \n",
      "86938    chr1   HAVANA    exon  42762322  42762475     .      -     .   \n",
      "86992    chr1   HAVANA    exon  42762322  42762403     .      -     .   \n",
      "87002    chr1   HAVANA    exon  42762322  42762346     .      -     .   \n",
      "87009    chr1   HAVANA    exon  42759985  42762475     .      -     .   \n",
      "\n",
      "                                               attribute  \n",
      "86822  gene_id \"ENSG00000117385.16\"; transcript_id \"E...  \n",
      "86855  gene_id \"ENSG00000117385.16\"; transcript_id \"E...  \n",
      "86872  gene_id \"ENSG00000117385.16\"; transcript_id \"E...  \n",
      "86907  gene_id \"ENSG00000117385.16\"; transcript_id \"E...  \n",
      "86938  gene_id \"ENSG00000117385.16\"; transcript_id \"E...  \n",
      "86992  gene_id \"ENSG00000117385.16\"; transcript_id \"E...  \n",
      "87002  gene_id \"ENSG00000117385.16\"; transcript_id \"E...  \n",
      "87009  gene_id \"ENSG00000117385.16\"; transcript_id \"E...  \n"
     ]
    }
   ],
   "source": [
    "print(search_df[search_df[\"feature\"]==\"exon\"])"
   ]
  },
  {
   "cell_type": "code",
   "execution_count": 8,
   "metadata": {},
   "outputs": [],
   "source": [
    "search_df = search_gtf_by_range(gtf, \"chr1\", 42767000, 42768000, require_both=False)"
   ]
  },
  {
   "cell_type": "code",
   "execution_count": 9,
   "metadata": {},
   "outputs": [
    {
     "name": "stdout",
     "output_type": "stream",
     "text": [
      "      seqname   source feature    cstart      cend score strand frame  \\\n",
      "86819    chr1  ENSEMBL    exon  42766506  42767084     .      -     .   \n",
      "86869    chr1   HAVANA    exon  42766506  42767028     .      -     .   \n",
      "86904    chr1   HAVANA    exon  42766506  42767012     .      -     .   \n",
      "86937    chr1   HAVANA    exon  42766506  42767022     .      -     .   \n",
      "86999    chr1   HAVANA    exon  42766506  42767002     .      -     .   \n",
      "87008    chr1   HAVANA    exon  42766506  42767017     .      -     .   \n",
      "87012    chr1   HAVANA    exon  42767244  42767390     .      +     .   \n",
      "87013    chr1   HAVANA    exon  42767508  42767624     .      +     .   \n",
      "87016    chr1   HAVANA    exon  42767248  42767390     .      +     .   \n",
      "87019    chr1   HAVANA    exon  42767508  42767624     .      +     .   \n",
      "87031    chr1   HAVANA    exon  42767275  42767624     .      +     .   \n",
      "87042    chr1   HAVANA    exon  42767277  42767390     .      +     .   \n",
      "87047    chr1   HAVANA    exon  42767285  42767390     .      +     .   \n",
      "87052    chr1   HAVANA    exon  42767288  42767390     .      +     .   \n",
      "87055    chr1   HAVANA    exon  42767293  42767390     .      +     .   \n",
      "87060    chr1   HAVANA    exon  42767305  42767390     .      +     .   \n",
      "87071    chr1   HAVANA    exon  42767318  42767390     .      +     .   \n",
      "87085    chr1   HAVANA    exon  42767291  42767390     .      +     .   \n",
      "87102    chr1   HAVANA    exon  42767305  42767624     .      +     .   \n",
      "\n",
      "                                               attribute  \n",
      "86819  gene_id \"ENSG00000117385.16\"; transcript_id \"E...  \n",
      "86869  gene_id \"ENSG00000117385.16\"; transcript_id \"E...  \n",
      "86904  gene_id \"ENSG00000117385.16\"; transcript_id \"E...  \n",
      "86937  gene_id \"ENSG00000117385.16\"; transcript_id \"E...  \n",
      "86999  gene_id \"ENSG00000117385.16\"; transcript_id \"E...  \n",
      "87008  gene_id \"ENSG00000117385.16\"; transcript_id \"E...  \n",
      "87012  gene_id \"ENSG00000164008.17\"; transcript_id \"E...  \n",
      "87013  gene_id \"ENSG00000164008.17\"; transcript_id \"E...  \n",
      "87016  gene_id \"ENSG00000164008.17\"; transcript_id \"E...  \n",
      "87019  gene_id \"ENSG00000164008.17\"; transcript_id \"E...  \n",
      "87031  gene_id \"ENSG00000164008.17\"; transcript_id \"E...  \n",
      "87042  gene_id \"ENSG00000164008.17\"; transcript_id \"E...  \n",
      "87047  gene_id \"ENSG00000164008.17\"; transcript_id \"E...  \n",
      "87052  gene_id \"ENSG00000164008.17\"; transcript_id \"E...  \n",
      "87055  gene_id \"ENSG00000164008.17\"; transcript_id \"E...  \n",
      "87060  gene_id \"ENSG00000164008.17\"; transcript_id \"E...  \n",
      "87071  gene_id \"ENSG00000164008.17\"; transcript_id \"E...  \n",
      "87085  gene_id \"ENSG00000283580.4\"; transcript_id \"EN...  \n",
      "87102  gene_id \"ENSG00000283580.4\"; transcript_id \"EN...  \n"
     ]
    }
   ],
   "source": [
    "print(search_df[search_df[\"feature\"]==\"exon\"])"
   ]
  },
  {
   "cell_type": "code",
   "execution_count": 10,
   "metadata": {},
   "outputs": [],
   "source": [
    "intron_df = pd.read_csv(\"IntronExonDF.csv\")"
   ]
  },
  {
   "cell_type": "code",
   "execution_count": 26,
   "metadata": {},
   "outputs": [],
   "source": [
    "search_df = search_gtf_by_range(intron_df, \"chr1\", 42747000, 42768000, require_both=False)"
   ]
  },
  {
   "cell_type": "code",
   "execution_count": 27,
   "metadata": {},
   "outputs": [
    {
     "name": "stdout",
     "output_type": "stream",
     "text": [
      "Empty DataFrame\n",
      "Columns: [seqname, feature, cstart, cend, strand]\n",
      "Index: []\n"
     ]
    }
   ],
   "source": [
    "print(search_df[search_df[\"feature\"]==\"Intron\"])"
   ]
  },
  {
   "cell_type": "code",
   "execution_count": null,
   "metadata": {},
   "outputs": [],
   "source": [
    "# This function didn't actually work\n",
    "def calculate_introns(df):\n",
    "    \"\"\"\n",
    "    Given a GTF annotation dataframe (with columns including seqname, feature, cstart, cend, strand, attribute)\n",
    "    where cstart has been adjusted to Python’s 0-based indexing, this function returns a dataframe of\n",
    "    intron intervals. It finds, for each gene, the exons that belong to it, merges overlapping exons,\n",
    "    and then calculates the introns as the gaps between these merged exons (only when an exon exists on\n",
    "    both sides).\n",
    "    \n",
    "    The returned dataframe has the columns: seqname, feature (always 'intron'), cstart, cend, strand.\n",
    "    \"\"\"\n",
    "    \n",
    "    # Helper function to extract gene_id from the attribute string.\n",
    "    def get_gene_id(attr):\n",
    "        # Assumes gene_id is formatted like: gene_id \"XYZ\";\n",
    "        m = re.search(r'gene_id \"([^\"]+)\"', attr)\n",
    "        return m.group(1) if m else None\n",
    "\n",
    "    # Work on a copy so as not to modify the original dataframe.\n",
    "    df = df.copy()\n",
    "    # Create a new column with gene ids extracted from the attribute field.\n",
    "    df['gene_id'] = df['attribute'].apply(get_gene_id)\n",
    "    \n",
    "    intron_records = []\n",
    "    # Process each gene (rows where feature == 'gene')\n",
    "    genes = df[df['feature'] == 'gene']\n",
    "    for _, gene_row in genes.iterrows():\n",
    "        gene_id  = gene_row['gene_id']\n",
    "        seqname  = gene_row['seqname']\n",
    "        strand   = gene_row['strand']\n",
    "        gene_cstart = gene_row['cstart']\n",
    "        gene_cend   = gene_row['cend']\n",
    "        \n",
    "        # Get all exons that belong to this gene.\n",
    "        gene_exons = df[(df['feature'] == 'exon') & (df['gene_id'] == gene_id)]\n",
    "        if gene_exons.empty:\n",
    "            continue  # no exons for this gene, so nothing to do\n",
    "        \n",
    "        # Sort exons by their start position.\n",
    "        gene_exons_sorted = gene_exons.sort_values(by='cstart')\n",
    "        \n",
    "        # Merge overlapping (or adjacent) exons.\n",
    "        merged_exons = []\n",
    "        for _, exon in gene_exons_sorted.iterrows():\n",
    "            exon_start = exon['cstart']\n",
    "            exon_end   = exon['cend']\n",
    "            if not merged_exons:\n",
    "                merged_exons.append([exon_start, exon_end])\n",
    "            else:\n",
    "                # Compare with the last merged exon.\n",
    "                last = merged_exons[-1]\n",
    "                if exon_start <= last[1]:\n",
    "                    # Overlap (or touching); merge by extending the end if needed.\n",
    "                    last[1] = max(last[1], exon_end)\n",
    "                else:\n",
    "                    merged_exons.append([exon_start, exon_end])\n",
    "        \n",
    "        # We need at least two merged exons to have an intron.\n",
    "        if len(merged_exons) < 2:\n",
    "            continue\n",
    "        \n",
    "        # For each gap between consecutive merged exons, define an intron.\n",
    "        for i in range(len(merged_exons) - 1):\n",
    "            intron_start = merged_exons[i][1]   # end of previous exon\n",
    "            intron_end   = merged_exons[i+1][0]   # start of next exon\n",
    "            # Only include an intron if there is a gap.\n",
    "            if intron_end > intron_start:\n",
    "                intron_records.append({\n",
    "                    'seqname': seqname,\n",
    "                    'feature': 'intron',\n",
    "                    'cstart': intron_start,\n",
    "                    'cend': intron_end,\n",
    "                    'strand': strand\n",
    "                })\n",
    "    \n",
    "    # Create and return the final intron dataframe.\n",
    "    introns_df = pd.DataFrame(intron_records, columns=['seqname', 'feature', 'cstart', 'cend', 'strand'])\n",
    "    return introns_df\n"
   ]
  },
  {
   "cell_type": "code",
   "execution_count": 22,
   "metadata": {},
   "outputs": [],
   "source": [
    "gtf = load_gtf_annotations(\"chr_annotations.gtf\")\n",
    "introns_df = calculate_introns(gtf)\n",
    "introns_df.to_csv(\"New_Introns.csv\", index=False)"
   ]
  },
  {
   "cell_type": "code",
   "execution_count": 25,
   "metadata": {},
   "outputs": [
    {
     "data": {
      "text/html": [
       "<div>\n",
       "<style scoped>\n",
       "    .dataframe tbody tr th:only-of-type {\n",
       "        vertical-align: middle;\n",
       "    }\n",
       "\n",
       "    .dataframe tbody tr th {\n",
       "        vertical-align: top;\n",
       "    }\n",
       "\n",
       "    .dataframe thead th {\n",
       "        text-align: right;\n",
       "    }\n",
       "</style>\n",
       "<table border=\"1\" class=\"dataframe\">\n",
       "  <thead>\n",
       "    <tr style=\"text-align: right;\">\n",
       "      <th></th>\n",
       "      <th>cstart</th>\n",
       "      <th>cend</th>\n",
       "    </tr>\n",
       "  </thead>\n",
       "  <tbody>\n",
       "    <tr>\n",
       "      <th>count</th>\n",
       "      <td>2.972780e+05</td>\n",
       "      <td>2.972780e+05</td>\n",
       "    </tr>\n",
       "    <tr>\n",
       "      <th>mean</th>\n",
       "      <td>7.538613e+07</td>\n",
       "      <td>7.539244e+07</td>\n",
       "    </tr>\n",
       "    <tr>\n",
       "      <th>std</th>\n",
       "      <td>5.611200e+07</td>\n",
       "      <td>5.611245e+07</td>\n",
       "    </tr>\n",
       "    <tr>\n",
       "      <th>min</th>\n",
       "      <td>1.159500e+04</td>\n",
       "      <td>1.217800e+04</td>\n",
       "    </tr>\n",
       "    <tr>\n",
       "      <th>25%</th>\n",
       "      <td>3.143741e+07</td>\n",
       "      <td>3.144552e+07</td>\n",
       "    </tr>\n",
       "    <tr>\n",
       "      <th>50%</th>\n",
       "      <td>6.255454e+07</td>\n",
       "      <td>6.256032e+07</td>\n",
       "    </tr>\n",
       "    <tr>\n",
       "      <th>75%</th>\n",
       "      <td>1.116335e+08</td>\n",
       "      <td>1.116467e+08</td>\n",
       "    </tr>\n",
       "    <tr>\n",
       "      <th>max</th>\n",
       "      <td>2.489139e+08</td>\n",
       "      <td>2.489166e+08</td>\n",
       "    </tr>\n",
       "  </tbody>\n",
       "</table>\n",
       "</div>"
      ],
      "text/plain": [
       "             cstart          cend\n",
       "count  2.972780e+05  2.972780e+05\n",
       "mean   7.538613e+07  7.539244e+07\n",
       "std    5.611200e+07  5.611245e+07\n",
       "min    1.159500e+04  1.217800e+04\n",
       "25%    3.143741e+07  3.144552e+07\n",
       "50%    6.255454e+07  6.256032e+07\n",
       "75%    1.116335e+08  1.116467e+08\n",
       "max    2.489139e+08  2.489166e+08"
      ]
     },
     "execution_count": 25,
     "metadata": {},
     "output_type": "execute_result"
    }
   ],
   "source": [
    "introns_df.describe()"
   ]
  },
  {
   "cell_type": "code",
   "execution_count": 32,
   "metadata": {},
   "outputs": [],
   "source": [
    "search_df = search_gtf_by_range(introns_df, \"chr1\", 42747000, 42768000, require_both=False)"
   ]
  },
  {
   "cell_type": "code",
   "execution_count": 33,
   "metadata": {},
   "outputs": [
    {
     "name": "stdout",
     "output_type": "stream",
     "text": [
      "     seqname feature    cstart      cend strand\n",
      "7333    chr1  intron  42747576  42747722      -\n",
      "7334    chr1  intron  42747798  42748199      -\n",
      "7335    chr1  intron  42748743  42749900      -\n",
      "7336    chr1  intron  42750336  42751640      -\n",
      "7337    chr1  intron  42751834  42752273      -\n",
      "7338    chr1  intron  42752369  42752536      -\n",
      "7339    chr1  intron  42752664  42754868      -\n",
      "7340    chr1  intron  42755217  42755547      -\n",
      "7341    chr1  intron  42755637  42756400      -\n",
      "7342    chr1  intron  42756455  42757782      -\n",
      "7343    chr1  intron  42757945  42758851      -\n",
      "7344    chr1  intron  42758983  42759200      -\n",
      "7345    chr1  intron  42759393  42759985      -\n",
      "7346    chr1  intron  42762475  42766506      -\n",
      "7347    chr1  intron  42767624  42769677      +\n",
      "7351    chr1  intron  42767624  42773545      +\n"
     ]
    }
   ],
   "source": [
    "print(search_df)"
   ]
  },
  {
   "cell_type": "code",
   "execution_count": 38,
   "metadata": {},
   "outputs": [],
   "source": [
    "search_df = search_gtf_by_range(gtf, \"chr1\", 42759980, 42762480, require_both=False)"
   ]
  },
  {
   "cell_type": "code",
   "execution_count": 39,
   "metadata": {},
   "outputs": [
    {
     "name": "stdout",
     "output_type": "stream",
     "text": [
      "      seqname   source feature    cstart      cend score strand frame  \\\n",
      "86822    chr1  ENSEMBL    exon  42762322  42762475     .      -     .   \n",
      "86855    chr1   HAVANA    exon  42762322  42762475     .      -     .   \n",
      "86872    chr1   HAVANA    exon  42762322  42762475     .      -     .   \n",
      "86907    chr1   HAVANA    exon  42762322  42762475     .      -     .   \n",
      "86938    chr1   HAVANA    exon  42762322  42762475     .      -     .   \n",
      "86992    chr1   HAVANA    exon  42762322  42762403     .      -     .   \n",
      "87002    chr1   HAVANA    exon  42762322  42762346     .      -     .   \n",
      "87009    chr1   HAVANA    exon  42759985  42762475     .      -     .   \n",
      "\n",
      "                                               attribute  \n",
      "86822  gene_id \"ENSG00000117385.16\"; transcript_id \"E...  \n",
      "86855  gene_id \"ENSG00000117385.16\"; transcript_id \"E...  \n",
      "86872  gene_id \"ENSG00000117385.16\"; transcript_id \"E...  \n",
      "86907  gene_id \"ENSG00000117385.16\"; transcript_id \"E...  \n",
      "86938  gene_id \"ENSG00000117385.16\"; transcript_id \"E...  \n",
      "86992  gene_id \"ENSG00000117385.16\"; transcript_id \"E...  \n",
      "87002  gene_id \"ENSG00000117385.16\"; transcript_id \"E...  \n",
      "87009  gene_id \"ENSG00000117385.16\"; transcript_id \"E...  \n"
     ]
    }
   ],
   "source": [
    "print(search_df[(search_df[\"feature\"]==\"exon\") & ((search_df[\"strand\"]==\"-\"))])"
   ]
  },
  {
   "cell_type": "code",
   "execution_count": 41,
   "metadata": {},
   "outputs": [
    {
     "name": "stdout",
     "output_type": "stream",
     "text": [
      "seqname                                                   chr1\n",
      "source                                                  HAVANA\n",
      "feature                                                   exon\n",
      "cstart                                                42762322\n",
      "cend                                                  42762475\n",
      "score                                                        .\n",
      "strand                                                       -\n",
      "frame                                                        .\n",
      "attribute    gene_id \"ENSG00000117385.16\"; transcript_id \"E...\n",
      "Name: 86907, dtype: object\n"
     ]
    }
   ],
   "source": [
    "print(search_df.loc[86907,:])"
   ]
  },
  {
   "cell_type": "code",
   "execution_count": 43,
   "metadata": {},
   "outputs": [
    {
     "name": "stdout",
     "output_type": "stream",
     "text": [
      "chr1\n",
      "HAVANA\n",
      "exon\n",
      "42762322\n",
      "42762475\n",
      ".\n",
      "-\n",
      ".\n",
      "gene_id \"ENSG00000117385.16\"; transcript_id \"ENST00000236040.8\"; gene_type \"protein_coding\"; gene_name \"P3H1\"; transcript_type \"protein_coding\"; transcript_name \"P3H1-201\"; exon_number 2; exon_id \"ENSE00003691539.1\"; level 2; protein_id \"ENSP00000236040.4\"; transcript_support_level \"2\"; hgnc_id \"HGNC:19316\"; tag \"basic\"; tag \"GENCODE_Primary\"; tag \"CCDS\"; ccdsid \"CCDS57986.1\"; havana_gene \"OTTHUMG00000007525.8\"; havana_transcript \"OTTHUMT00000019791.2\";\n"
     ]
    }
   ],
   "source": [
    "for _ in search_df.loc[86907,:]:\n",
    "    print(_)"
   ]
  },
  {
   "cell_type": "code",
   "execution_count": 45,
   "metadata": {},
   "outputs": [
    {
     "name": "stdout",
     "output_type": "stream",
     "text": [
      "chr1\n",
      "ENSEMBL\n",
      "exon\n",
      "42762322\n",
      "42762475\n",
      ".\n",
      "-\n",
      ".\n",
      "gene_id \"ENSG00000117385.16\"; transcript_id \"ENST00000397054.7\"; gene_type \"protein_coding\"; gene_name \"P3H1\"; transcript_type \"protein_coding\"; transcript_name \"P3H1-204\"; exon_number 2; exon_id \"ENSE00003691539.1\"; level 3; protein_id \"ENSP00000380245.3\"; transcript_support_level \"1\"; hgnc_id \"HGNC:19316\"; tag \"basic\"; tag \"GENCODE_Primary\"; tag \"CCDS\"; ccdsid \"CCDS53307.1\"; havana_gene \"OTTHUMG00000007525.8\";\n",
      "chr1\n",
      "HAVANA\n",
      "exon\n",
      "42762322\n",
      "42762475\n",
      ".\n",
      "-\n",
      ".\n",
      "gene_id \"ENSG00000117385.16\"; transcript_id \"ENST00000460031.5\"; gene_type \"protein_coding\"; gene_name \"P3H1\"; transcript_type \"retained_intron\"; transcript_name \"P3H1-207\"; exon_number 2; exon_id \"ENSE00003521591.1\"; level 2; transcript_support_level \"5\"; hgnc_id \"HGNC:19316\"; havana_gene \"OTTHUMG00000007525.8\"; havana_transcript \"OTTHUMT00000329581.2\";\n",
      "chr1\n",
      "HAVANA\n",
      "exon\n",
      "42762322\n",
      "42762475\n",
      ".\n",
      "-\n",
      ".\n",
      "gene_id \"ENSG00000117385.16\"; transcript_id \"ENST00000296388.10\"; gene_type \"protein_coding\"; gene_name \"P3H1\"; transcript_type \"protein_coding\"; transcript_name \"P3H1-202\"; exon_number 2; exon_id \"ENSE00003691539.1\"; level 2; protein_id \"ENSP00000296388.5\"; transcript_support_level \"1\"; hgnc_id \"HGNC:19316\"; tag \"basic\"; tag \"Ensembl_canonical\"; tag \"GENCODE_Primary\"; tag \"MANE_Select\"; tag \"appris_principal_1\"; tag \"CCDS\"; ccdsid \"CCDS472.2\"; havana_gene \"OTTHUMG00000007525.8\"; havana_transcript \"OTTHUMT00000019790.4\";\n",
      "chr1\n",
      "HAVANA\n",
      "exon\n",
      "42762322\n",
      "42762475\n",
      ".\n",
      "-\n",
      ".\n",
      "gene_id \"ENSG00000117385.16\"; transcript_id \"ENST00000236040.8\"; gene_type \"protein_coding\"; gene_name \"P3H1\"; transcript_type \"protein_coding\"; transcript_name \"P3H1-201\"; exon_number 2; exon_id \"ENSE00003691539.1\"; level 2; protein_id \"ENSP00000236040.4\"; transcript_support_level \"2\"; hgnc_id \"HGNC:19316\"; tag \"basic\"; tag \"GENCODE_Primary\"; tag \"CCDS\"; ccdsid \"CCDS57986.1\"; havana_gene \"OTTHUMG00000007525.8\"; havana_transcript \"OTTHUMT00000019791.2\";\n"
     ]
    }
   ],
   "source": [
    "loc_lst = [86822, 86855, 86872, 86907]\n",
    "for i in range(len(loc_lst)):\n",
    "    for _ in search_df.loc[loc_lst[i],:]:\n",
    "        print(_)"
   ]
  },
  {
   "cell_type": "code",
   "execution_count": 4,
   "metadata": {},
   "outputs": [],
   "source": [
    "import pandas as pd\n",
    "import re\n",
    "\n",
    "def calculate_introns(df):\n",
    "    \"\"\"\n",
    "    Given a GTF annotation dataframe (with columns including seqname, source, feature, cstart, cend, strand, attribute)\n",
    "    where cstart has been adjusted to Python’s 0-based indexing, this function returns a dataframe of\n",
    "    intron intervals using the most common cstart and cend per gene_id and exon number.\n",
    "    \n",
    "    For each gene:\n",
    "      - Extract all exon rows.\n",
    "      - Group exons by the exon number (extracted from the attribute column).\n",
    "      - For each exon group, use the mode of cstart and cend as the representative exon boundaries.\n",
    "        In the event of a tie:\n",
    "          * For cstart: pick the smallest candidate among those rows with source \"HAVANA\". If none, use \"ENSEMBL\".\n",
    "          * For cend: pick the largest candidate among those rows with source \"HAVANA\". If none, use \"ENSEMBL\".\n",
    "        If neither source is found among the candidates, fallback to the smallest (for cstart) or largest (for cend)\n",
    "        candidate overall.\n",
    "      - Sort the exons by exon number (converted to int when possible).\n",
    "      - Compute each intron as the gap between the representative boundaries of consecutive exons.\n",
    "    \n",
    "    The returned dataframe has the columns: seqname, feature (always 'intron'), cstart, cend, strand.\n",
    "    \"\"\"\n",
    "    \n",
    "    # Helper function to extract gene_id from the attribute string.\n",
    "    def get_gene_id(attr):\n",
    "        m = re.search(r'gene_id \"([^\"]+)\"', attr)\n",
    "        return m.group(1) if m else None\n",
    "\n",
    "    # Helper function to extract exon number from the attribute string.\n",
    "    def get_exon_number(attr):\n",
    "        m = re.search(r'exon_number \"([^\"]+)\"', attr)\n",
    "        return m.group(1) if m else None\n",
    "\n",
    "    # Helper function to compute mode with tie-breaking.\n",
    "    # For cstart (tie_break_direction='min'): in a tie, prefer HAVANA (smallest) then ENSEMBL (smallest) then overall min.\n",
    "    # For cend (tie_break_direction='max'): in a tie, prefer HAVANA (largest) then ENSEMBL (largest) then overall max.\n",
    "    def get_mode_with_preferred(series, group, column_name, tie_break_direction='min'):\n",
    "        modes = series.mode()\n",
    "        if len(modes) == 1:\n",
    "            return modes.iloc[0]\n",
    "        elif len(modes) > 1:\n",
    "            candidate_values = set(modes)\n",
    "            # First try HAVANA rows among the tied candidates.\n",
    "            havana_rows = group[(group[column_name].isin(candidate_values)) & (group['source'] == 'HAVANA')]\n",
    "            if not havana_rows.empty:\n",
    "                if tie_break_direction == 'min':\n",
    "                    return havana_rows[column_name].min()\n",
    "                else:\n",
    "                    return havana_rows[column_name].max()\n",
    "            # Next, try ENSEMBL rows among the tied candidates.\n",
    "            ensembl_rows = group[(group[column_name].isin(candidate_values)) & (group['source'] == 'ENSEMBL')]\n",
    "            if not ensembl_rows.empty:\n",
    "                if tie_break_direction == 'min':\n",
    "                    return ensembl_rows[column_name].min()\n",
    "                else:\n",
    "                    return ensembl_rows[column_name].max()\n",
    "            # Fallback: return min (for cstart) or max (for cend) from candidate values overall.\n",
    "            if tie_break_direction == 'min':\n",
    "                return min(modes)\n",
    "            else:\n",
    "                return max(modes)\n",
    "        else:\n",
    "            # Fallback if mode() returns an empty Series.\n",
    "            return series.iloc[0]\n",
    "    \n",
    "    # Work on a copy so as not to modify the original dataframe.\n",
    "    df = df.copy()\n",
    "    # Extract gene_id and exon_number from the attribute field.\n",
    "    df['gene_id'] = df['attribute'].apply(get_gene_id)\n",
    "    df['exon_number'] = df['attribute'].apply(get_exon_number)\n",
    "    \n",
    "    intron_records = []\n",
    "    \n",
    "    # Process each gene (rows where feature == 'gene')\n",
    "    genes = df[df['feature'] == 'gene']\n",
    "    for _, gene_row in genes.iterrows():\n",
    "        gene_id = gene_row['gene_id']\n",
    "        seqname = gene_row['seqname']\n",
    "        strand  = gene_row['strand']\n",
    "        \n",
    "        # Get all exons for this gene.\n",
    "        gene_exons = df[(df['feature'] == 'exon') & (df['gene_id'] == gene_id)]\n",
    "        if gene_exons.empty:\n",
    "            continue\n",
    "        # Keep only exons with a valid exon_number.\n",
    "        gene_exons = gene_exons[gene_exons['exon_number'].notnull()]\n",
    "        if gene_exons.empty:\n",
    "            continue\n",
    "        \n",
    "        # For each exon (grouped by exon_number), determine representative boundaries.\n",
    "        exon_boundaries = []\n",
    "        for exon_num, group in gene_exons.groupby('exon_number'):\n",
    "            rep_start = get_mode_with_preferred(group['cstart'], group, 'cstart', tie_break_direction='min')\n",
    "            rep_end   = get_mode_with_preferred(group['cend'], group, 'cend', tie_break_direction='max')\n",
    "            exon_boundaries.append({\n",
    "                'exon_number': exon_num,\n",
    "                'rep_start': rep_start,\n",
    "                'rep_end': rep_end\n",
    "            })\n",
    "        \n",
    "        # Sort exons by exon_number (attempt numeric sorting).\n",
    "        try:\n",
    "            sorted_exons = sorted(exon_boundaries, key=lambda x: int(x['exon_number']))\n",
    "        except ValueError:\n",
    "            sorted_exons = sorted(exon_boundaries, key=lambda x: x['exon_number'])\n",
    "        \n",
    "        # Need at least two exons to form an intron.\n",
    "        if len(sorted_exons) < 2:\n",
    "            continue\n",
    "        \n",
    "        # For each gap between consecutive exons, define an intron.\n",
    "        for i in range(len(sorted_exons) - 1):\n",
    "            intron_start = sorted_exons[i]['rep_end']   # End of previous exon.\n",
    "            intron_end   = sorted_exons[i+1]['rep_start']  # Start of next exon.\n",
    "            if intron_end > intron_start:\n",
    "                intron_records.append({\n",
    "                    'seqname': seqname,\n",
    "                    'feature': 'intron',\n",
    "                    'cstart': intron_start,\n",
    "                    'cend': intron_end,\n",
    "                    'strand': strand\n",
    "                })\n",
    "    \n",
    "    # Create and return the final intron dataframe.\n",
    "    introns_df = pd.DataFrame(intron_records, columns=['seqname', 'feature', 'cstart', 'cend', 'strand'])\n",
    "    return introns_df"
   ]
  },
  {
   "cell_type": "code",
   "execution_count": 5,
   "metadata": {},
   "outputs": [],
   "source": [
    "gtf = load_gtf_annotations(\"chr_annotations.gtf\")\n",
    "fixed_introns_df = calculate_introns(gtf)\n",
    "fixed_introns_df.to_csv(\"Fixed_Introns.csv\", index=False)"
   ]
  },
  {
   "cell_type": "code",
   "execution_count": 7,
   "metadata": {},
   "outputs": [
    {
     "data": {
      "text/html": [
       "<div>\n",
       "<style scoped>\n",
       "    .dataframe tbody tr th:only-of-type {\n",
       "        vertical-align: middle;\n",
       "    }\n",
       "\n",
       "    .dataframe tbody tr th {\n",
       "        vertical-align: top;\n",
       "    }\n",
       "\n",
       "    .dataframe thead th {\n",
       "        text-align: right;\n",
       "    }\n",
       "</style>\n",
       "<table border=\"1\" class=\"dataframe\">\n",
       "  <thead>\n",
       "    <tr style=\"text-align: right;\">\n",
       "      <th></th>\n",
       "      <th>seqname</th>\n",
       "      <th>feature</th>\n",
       "      <th>cstart</th>\n",
       "      <th>cend</th>\n",
       "      <th>strand</th>\n",
       "    </tr>\n",
       "  </thead>\n",
       "  <tbody>\n",
       "  </tbody>\n",
       "</table>\n",
       "</div>"
      ],
      "text/plain": [
       "Empty DataFrame\n",
       "Columns: [seqname, feature, cstart, cend, strand]\n",
       "Index: []"
      ]
     },
     "execution_count": 7,
     "metadata": {},
     "output_type": "execute_result"
    }
   ],
   "source": [
    "fixed_introns_df.head()"
   ]
  },
  {
   "cell_type": "code",
   "execution_count": 6,
   "metadata": {},
   "outputs": [
    {
     "name": "stdout",
     "output_type": "stream",
     "text": [
      "Empty DataFrame\n",
      "Columns: [seqname, feature, cstart, cend, strand]\n",
      "Index: []\n"
     ]
    }
   ],
   "source": [
    "search_df = search_gtf_by_range(fixed_introns_df, \"chr1\", 42747000, 42768000, require_both=False)\n",
    "print(search_df)"
   ]
  },
  {
   "cell_type": "code",
   "execution_count": null,
   "metadata": {},
   "outputs": [],
   "source": [
    "search_df = search_gtf_by_range(fixed_introns_df, \"chr1\", 42762000, 42762500, require_both=False)\n",
    "print(search_df)"
   ]
  },
  {
   "cell_type": "code",
   "execution_count": null,
   "metadata": {},
   "outputs": [],
   "source": [
    "trimmed_annotation_data = gtf[[\"seqname\", \"feature\", \"cstart\", \"cend\", \"strand\"]]\n",
    "FixedIntronExonDF = pd.concat([trimmed_annotation_data, fixed_introns_df])\n",
    "FixedIntronExonDF = FixedIntronExonDF[FixedIntronExonDF[\"seqname\"]!=\"chrM\"]\n",
    "FixedIntronExonDF.to_csv('FixedIntronExonDF.csv', index=False)"
   ]
  },
  {
   "cell_type": "code",
   "execution_count": 8,
   "metadata": {},
   "outputs": [],
   "source": [
    "better_introns = pd.read_csv('BetterIntrons.csv')\n",
    "search_df = search_gtf_by_range(better_introns, \"chr1\", 42747000, 42768000, require_both=False)"
   ]
  },
  {
   "cell_type": "code",
   "execution_count": 9,
   "metadata": {},
   "outputs": [
    {
     "name": "stdout",
     "output_type": "stream",
     "text": [
      "       seqname feature    cstart      cend strand\n",
      "61722     chr1  intron  42766506  42762475      -\n",
      "61723     chr1  intron  42762322  42759390      -\n",
      "61724     chr1  intron  42759200  42758983      -\n",
      "61725     chr1  intron  42758851  42757922      -\n",
      "61726     chr1  intron  42757782  42755637      -\n",
      "61727     chr1  intron  42755547  42755217      -\n",
      "61728     chr1  intron  42755164  42754990      -\n",
      "61729     chr1  intron  42754868  42752664      -\n",
      "61730     chr1  intron  42752536  42752369      -\n",
      "61731     chr1  intron  42752273  42750336      -\n",
      "61732     chr1  intron  42750185  42748317      -\n",
      "61733     chr1  intron  42748199  42747798      -\n",
      "61734     chr1  intron  42747722  42747412      -\n",
      "135467    chr1  intron  42767390  42767508      +\n",
      "135468    chr1  intron  42767624  42773562      +\n",
      "268820    chr1  intron  42767624  42773545      +\n"
     ]
    }
   ],
   "source": [
    "print(search_df)"
   ]
  },
  {
   "cell_type": "code",
   "execution_count": null,
   "metadata": {},
   "outputs": [],
   "source": []
  }
 ],
 "metadata": {
  "kernelspec": {
   "display_name": ".venv",
   "language": "python",
   "name": "python3"
  },
  "language_info": {
   "codemirror_mode": {
    "name": "ipython",
    "version": 3
   },
   "file_extension": ".py",
   "mimetype": "text/x-python",
   "name": "python",
   "nbconvert_exporter": "python",
   "pygments_lexer": "ipython3",
   "version": "3.10.12"
  }
 },
 "nbformat": 4,
 "nbformat_minor": 2
}
