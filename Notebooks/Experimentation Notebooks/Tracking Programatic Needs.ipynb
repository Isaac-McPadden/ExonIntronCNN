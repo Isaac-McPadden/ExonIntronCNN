{
 "cells": [
  {
   "cell_type": "markdown",
   "metadata": {},
   "source": [
    "Datasets:\n",
    "Complete Binary, w/ background - sizes 1 and 10 and highly mixed 5\n",
    "Complete Binary, no background - sizes 1 and 10 and incremental 5\n",
    "Custom Smoothing, w/ background - sizes 1 and 10 - This is the baseline\n",
    "Custom Smoothing, no background - sizes 1 and 10\n",
    "\n",
    "\n",
    "Loss settings:\n",
    "Custom Smoothing, enabled - Loss A -This is the baseline\n",
    "Custom Smoothing, disabled - Loss A\n",
    "No Smoothing, disabled - Loss A or B \n",
    "Proper Smoothing, disabled - Loss B\n",
    "\n",
    "\n",
    "Model Types: \n",
    "Standard Dilation, No Attention - This is the baseline\n",
    "Standard Dilation, Attention\n",
    "Reduced Dilation, No Attention\n",
    "Reduced Dilation, Attention\n",
    "\n",
    "Todo: Need to make a reduced dilation version of the model\n",
    "Confirm that if no smoothing and early reward disabled, Loss A and Loss B are equivalent\n",
    "\n",
    "Checklist of datasets:\n",
    "\n",
    " Complete Binary, w/ background\n",
    "\n",
    " Size 1 - COMPLETE\n",
    "\n",
    " Size 10\n",
    "\n",
    " Highly mixed 5\n",
    "\n",
    "\n",
    " Complete Binary, no background\n",
    "\n",
    " Size 1\n",
    "\n",
    " Size 10\n",
    "\n",
    " Incremental 5 - have a custom smoothed version w/ background that can be converted\n",
    "\n",
    " Custom Smoothing, w/ background (This is the baseline)\n",
    "\n",
    " Size 1 - COMPLETE\n",
    "\n",
    " Size 10 - COMPLETE\n",
    "\n",
    " Custom Smoothing, no background\n",
    "\n",
    " Size 1\n",
    "\n",
    " Size 10\n"
   ]
  },
  {
   "cell_type": "code",
   "execution_count": 2,
   "metadata": {},
   "outputs": [
    {
     "name": "stderr",
     "output_type": "stream",
     "text": [
      "2025-04-05 22:11:08.082359: E external/local_xla/xla/stream_executor/cuda/cuda_fft.cc:485] Unable to register cuFFT factory: Attempting to register factory for plugin cuFFT when one has already been registered\n",
      "2025-04-05 22:11:08.166047: E external/local_xla/xla/stream_executor/cuda/cuda_dnn.cc:8454] Unable to register cuDNN factory: Attempting to register factory for plugin cuDNN when one has already been registered\n",
      "2025-04-05 22:11:08.189631: E external/local_xla/xla/stream_executor/cuda/cuda_blas.cc:1452] Unable to register cuBLAS factory: Attempting to register factory for plugin cuBLAS when one has already been registered\n",
      "2025-04-05 22:11:08.351040: I tensorflow/core/platform/cpu_feature_guard.cc:210] This TensorFlow binary is optimized to use available CPU instructions in performance-critical operations.\n",
      "To enable the following instructions: AVX2 FMA, in other operations, rebuild TensorFlow with the appropriate compiler flags.\n",
      "2025-04-05 22:11:09.829901: W tensorflow/compiler/tf2tensorrt/utils/py_utils.cc:38] TF-TRT Warning: Could not find TensorRT\n"
     ]
    }
   ],
   "source": [
    "import time\n",
    "import sys\n",
    "import os\n",
    "import glob\n",
    "import math\n",
    "import threading\n",
    "import concurrent.futures as cf\n",
    "import random\n",
    "import re\n",
    "\n",
    "import numpy as np\n",
    "import pandas as pd\n",
    "import tensorflow as tf\n",
    "from keras import Input, Model, layers, metrics, losses, callbacks, optimizers, models, utils\n",
    "from keras import backend as K\n",
    "import gc\n",
    "import keras_tuner as kt\n",
    "from pyfaidx import Fasta\n",
    "\n",
    "import sys\n",
    "import os\n",
    "\n",
    "datasets_path = \"../../Datasets/\"\n",
    "models_path = \"../../Models/\""
   ]
  },
  {
   "cell_type": "code",
   "execution_count": 20,
   "metadata": {},
   "outputs": [],
   "source": [
    "project_root = os.path.abspath(os.path.join(os.getcwd(), '..', '..'))\n",
    "if project_root not in sys.path:\n",
    "    sys.path.insert(0, project_root)"
   ]
  },
  {
   "cell_type": "code",
   "execution_count": 2,
   "metadata": {},
   "outputs": [],
   "source": [
    "import IEModules as iem"
   ]
  },
  {
   "cell_type": "code",
   "execution_count": 3,
   "metadata": {},
   "outputs": [
    {
     "name": "stdout",
     "output_type": "stream",
     "text": [
      "You entered Howdy! into test_function\n"
     ]
    },
    {
     "data": {
      "text/plain": [
       "'Howdy!'"
      ]
     },
     "execution_count": 3,
     "metadata": {},
     "output_type": "execute_result"
    }
   ],
   "source": [
    "iem.Genetic_Data_Pipeline.test_function(\"Howdy!\")"
   ]
  },
  {
   "cell_type": "code",
   "execution_count": null,
   "metadata": {},
   "outputs": [],
   "source": []
  },
  {
   "cell_type": "markdown",
   "metadata": {},
   "source": [
    "Check Genetic_Data_Pipeline for correctness\n",
    "\n",
    "Check Custom_Models for correctness\n",
    "\n",
    "Need to make a shard shuffler module probably that goes from output of genetic_data_pipeline to fully shuffled test-train-split"
   ]
  },
  {
   "cell_type": "markdown",
   "metadata": {},
   "source": []
  }
 ],
 "metadata": {
  "kernelspec": {
   "display_name": ".venv",
   "language": "python",
   "name": "python3"
  },
  "language_info": {
   "codemirror_mode": {
    "name": "ipython",
    "version": 3
   },
   "file_extension": ".py",
   "mimetype": "text/x-python",
   "name": "python",
   "nbconvert_exporter": "python",
   "pygments_lexer": "ipython3",
   "version": "3.10.12"
  }
 },
 "nbformat": 4,
 "nbformat_minor": 2
}
