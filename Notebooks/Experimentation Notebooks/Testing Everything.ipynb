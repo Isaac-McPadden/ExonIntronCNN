{
 "cells": [
  {
   "cell_type": "code",
   "execution_count": null,
   "metadata": {},
   "outputs": [],
   "source": [
    "# tests/test_fabricate_vectors.py\n",
    "import numpy as np\n",
    "import tensorflow as tf\n",
    "from IEModules.Helper_Functions import fabricate_vectors_for_f1\n",
    "from IEModules.Custom_Metrics import CustomNoBackgroundF1Score\n",
    "\n",
    "@pytest.mark.parametrize(\"target, with_bg\", [\n",
    "    (0.30, True),\n",
    "    (0.55, True),\n",
    "    (0.87, True),\n",
    "    (0.20, False),\n",
    "    (0.77, False),\n",
    "    (1.00, False),\n",
    "])\n",
    "def test_fabricated_f1(target, with_bg):\n",
    "    y_true, y_pred = fabricate_vectors_for_f1(target,\n",
    "                                              length=200,\n",
    "                                              include_background=with_bg,\n",
    "                                              seed=42)\n",
    "    metric = CustomNoBackgroundF1Score(\n",
    "        num_classes=5,   # always 5, the metric strips bg if present\n",
    "        name=\"nb_f1\"\n",
    "    )\n",
    "    metric.update_state(tf.constant(y_true), tf.constant(y_pred))\n",
    "    realised = metric.result().numpy()\n",
    "    # allow tiny float error\n",
    "    assert np.isclose(realised, target, atol=1e-6), \\\n",
    "        f\"wanted {target}, got {realised}\"\n"
   ]
  },
  {
   "cell_type": "code",
   "execution_count": null,
   "metadata": {},
   "outputs": [],
   "source": [
    "from IEModules.Helper_Functions import fabricate_vectors_for_f1\n",
    "from IEModules.Custom_Metrics   import CustomNoBackgroundF1Score\n",
    "import tensorflow as tf\n",
    "\n",
    "yt, yp = fabricate_vectors_for_f1(0.77, 200, include_background=True, seed=1)\n",
    "metric = CustomNoBackgroundF1Score(num_classes=5)\n",
    "metric.update_state(tf.constant(yt), tf.constant(yp))\n",
    "print(\"Realised F1 =\", round(metric.result().numpy(), 4))\n"
   ]
  }
 ],
 "metadata": {
  "kernelspec": {
   "display_name": ".venv",
   "language": "python",
   "name": "python3"
  },
  "language_info": {
   "codemirror_mode": {
    "name": "ipython",
    "version": 3
   },
   "file_extension": ".py",
   "mimetype": "text/x-python",
   "name": "python",
   "nbconvert_exporter": "python",
   "pygments_lexer": "ipython3",
   "version": "3.10.12"
  }
 },
 "nbformat": 4,
 "nbformat_minor": 2
}
